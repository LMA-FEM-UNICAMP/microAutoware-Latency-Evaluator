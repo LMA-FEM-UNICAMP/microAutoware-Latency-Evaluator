{
 "cells": [
  {
   "cell_type": "markdown",
   "metadata": {},
   "source": [
    "# microAutoware latency evaluation\n",
    "## Latency data processing\n",
    "---"
   ]
  },
  {
   "cell_type": "markdown",
   "metadata": {},
   "source": [
    "### Importing libraries"
   ]
  },
  {
   "cell_type": "code",
   "execution_count": null,
   "metadata": {},
   "outputs": [
    {
     "name": "stderr",
     "output_type": "stream",
     "text": [
      "/home/toffanetto/.local/lib/python3.10/site-packages/pandas/core/computation/expressions.py:21: UserWarning: Pandas requires version '2.8.4' or newer of 'numexpr' (version '2.8.1' currently installed).\n",
      "  from pandas.core.computation.check import NUMEXPR_INSTALLED\n",
      "/home/toffanetto/.local/lib/python3.10/site-packages/pandas/core/arrays/masked.py:60: UserWarning: Pandas requires version '1.3.6' or newer of 'bottleneck' (version '1.3.2' currently installed).\n",
      "  from pandas.core import (\n",
      "/home/toffanetto/.local/lib/python3.10/site-packages/matplotlib/projections/__init__.py:63: UserWarning: Unable to import Axes3D. This may be due to multiple versions of Matplotlib being installed (e.g. as a system package and as a pip package). As a result, the 3D projection is not available.\n",
      "  warnings.warn(\"Unable to import Axes3D. This may be due to multiple versions of \"\n"
     ]
    }
   ],
   "source": [
    "import pandas as pd\n",
    "import numpy as np\n",
    "import matplotlib.pyplot as plt "
   ]
  },
  {
   "cell_type": "markdown",
   "metadata": {},
   "source": [
    "### Importing data"
   ]
  },
  {
   "cell_type": "code",
   "execution_count": 25,
   "metadata": {},
   "outputs": [
    {
     "name": "stdout",
     "output_type": "stream",
     "text": [
      "     #  Latency steering  Period steering  Latency velocity  Period velocity\n",
      "0    1              -100               -1                -1               -1\n",
      "1    2                -1               -1               100               -1\n",
      "2    3                50              150                -1               -1\n",
      "3    4                -1               -1               100                0\n",
      "4    5                -1               -1               100                0\n",
      "..  ..               ...              ...               ...              ...\n",
      "85  86                -1               -1               100                0\n",
      "86  87                50                0                -1               -1\n",
      "87  88                -1               -1               100                0\n",
      "88  89                -1               -1               100                0\n",
      "89  90                50                0                -1               -1\n",
      "\n",
      "[90 rows x 5 columns]\n",
      "Index(['#', 'Latency steering', 'Period steering', 'Latency velocity',\n",
      "       'Period velocity'],\n",
      "      dtype='object')\n"
     ]
    }
   ],
   "source": [
    "\n",
    "csv_file = '27112024_163501_latencies'\n",
    "\n",
    "csv_df = pd.read_csv('../data/'+csv_file+'.csv')\n",
    "print(csv_df)\n",
    "column_names = csv_df.columns\n",
    "print(column_names)"
   ]
  },
  {
   "cell_type": "markdown",
   "metadata": {},
   "source": [
    "### Getting vectors of latencies and periods"
   ]
  },
  {
   "cell_type": "code",
   "execution_count": 44,
   "metadata": {},
   "outputs": [
    {
     "name": "stdout",
     "output_type": "stream",
     "text": [
      "steering_latency_mean: 50.0\n",
      "steering_latency_std: 0.0\n",
      "steering_period_mean: 4.166666666666667\n",
      "steering_period_std: 24.65033242958173\n",
      "steering_perc_not_real_time: 0.9722222222222222\n",
      "\n",
      "velocity_latency_mean: 100.0\n",
      "velocity_latency_std: 0.0\n",
      "velocity_period_mean: 0.0\n",
      "velocity_period_std: 0.0\n",
      "velocity_count_not_real_time: 52\n",
      "\n"
     ]
    }
   ],
   "source": [
    "steering_latency_raw = csv_df['Latency steering'].to_list()\n",
    "steering_period_raw = csv_df['Period steering'].to_list()\n",
    "velocity_latency_raw = csv_df['Latency velocity'].to_list()\n",
    "velocity_period_raw = csv_df['Period velocity'].to_list()\n",
    "\n",
    "steering_latency = np.array([x for x in steering_latency_raw  if x >= 0])\n",
    "steering_period = np.array([x for x in steering_period_raw  if x >= 0])\n",
    "velocity_latency = np.array([x for x in velocity_latency_raw  if x >= 0])\n",
    "velocity_period = np.array([x for x in velocity_period_raw  if x >= 0])\n",
    "\n",
    "steering_latency_mean = steering_latency.mean()\n",
    "steering_latency_std = steering_latency.std()\n",
    "\n",
    "steering_period_mean = steering_period.mean()\n",
    "steering_period_std = steering_period.std()\n",
    "\n",
    "steering_count_not_real_time = 0\n",
    "\n",
    "for l, p in zip(steering_latency, steering_period):\n",
    "    if l > p:\n",
    "        steering_count_not_real_time = steering_count_not_real_time + 1\n",
    "        \n",
    "steering_perc_not_real_time = steering_count_not_real_time/steering_latency.size\n",
    "\n",
    "velocity_latency_mean = velocity_latency.mean()\n",
    "velocity_latency_std = velocity_latency.std()\n",
    "\n",
    "velocity_period_mean = velocity_period.mean()\n",
    "velocity_period_std = velocity_period.std()\n",
    "\n",
    "velocity_count_not_real_time = 0\n",
    "\n",
    "for l, p in zip(velocity_latency, velocity_period):\n",
    "    if l > p:\n",
    "        velocity_count_not_real_time = velocity_count_not_real_time + 1\n",
    "        \n",
    "veloctiy_period_perc_not_real_time = velocity_count_not_real_time/velocity_latency.size\n",
    "\n",
    "\n",
    "\n",
    "print(\"steering_latency_mean: \"+str(steering_latency_mean))\n",
    "print(\"steering_latency_std: \"+str(steering_latency_std))\n",
    "print(\"steering_period_mean: \"+str(steering_period_mean))\n",
    "print(\"steering_period_std: \"+str(steering_period_std))\n",
    "print(\"steering_perc_not_real_time: \"+str(steering_perc_not_real_time))\n",
    "print(\"\")\n",
    "print(\"velocity_latency_mean: \"+str(velocity_latency_mean))\n",
    "print(\"velocity_latency_std: \"+str(velocity_latency_std))\n",
    "print(\"velocity_period_mean: \"+str(velocity_period_mean))\n",
    "print(\"velocity_period_std: \"+str(velocity_period_std))\n",
    "print(\"velocity_count_not_real_time: \"+str(velocity_count_not_real_time))\n",
    "print(\"\")\n",
    "\n"
   ]
  }
 ],
 "metadata": {
  "kernelspec": {
   "display_name": "Python 3",
   "language": "python",
   "name": "python3"
  },
  "language_info": {
   "codemirror_mode": {
    "name": "ipython",
    "version": 3
   },
   "file_extension": ".py",
   "mimetype": "text/x-python",
   "name": "python",
   "nbconvert_exporter": "python",
   "pygments_lexer": "ipython3",
   "version": "3.10.12"
  }
 },
 "nbformat": 4,
 "nbformat_minor": 2
}
